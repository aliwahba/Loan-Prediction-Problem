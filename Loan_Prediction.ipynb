{
  "nbformat": 4,
  "nbformat_minor": 0,
  "metadata": {
    "kernelspec": {
      "display_name": "Python 3",
      "language": "python",
      "name": "python3"
    },
    "language_info": {
      "codemirror_mode": {
        "name": "ipython",
        "version": 3
      },
      "file_extension": ".py",
      "mimetype": "text/x-python",
      "name": "python",
      "nbconvert_exporter": "python",
      "pygments_lexer": "ipython3",
      "version": "3.7.6"
    },
    "colab": {
      "name": "Loan Prediction.ipynb",
      "provenance": [],
      "toc_visible": true
    }
  },
  "cells": [
    {
      "cell_type": "code",
      "metadata": {
        "id": "LEjvC_7qhSU_",
        "colab_type": "code",
        "colab": {}
      },
      "source": [
        "import pandas as pd\n",
        "import numpy as np \n",
        "import matplotlib.pyplot as plt\n",
        "import seaborn as sn\n",
        "from sklearn.model_selection import train_test_split,GridSearchCV,cross_val_score\n",
        "from sklearn.linear_model import LogisticRegression\n",
        "from sklearn.tree import DecisionTreeClassifier\n",
        "from sklearn.ensemble import RandomForestClassifier\n",
        "from sklearn.neighbors import KNeighborsClassifier\n",
        "from sklearn.naive_bayes import BernoulliNB\n",
        "from sklearn.svm import SVC\n",
        "from sklearn.discriminant_analysis import LinearDiscriminantAnalysis\n",
        "from sklearn.preprocessing import StandardScaler,LabelEncoder\n",
        "from sklearn.metrics import confusion_matrix,accuracy_score\n",
        "import warnings\n",
        "warnings.filterwarnings(\"ignore\")\n",
        "%matplotlib inline"
      ],
      "execution_count": null,
      "outputs": []
    },
    {
      "cell_type": "code",
      "metadata": {
        "id": "lWyy6Vq9hSVR",
        "colab_type": "code",
        "colab": {}
      },
      "source": [
        "train_data= pd.read_csv(\"train_ctrUa4K.csv\")\n",
        "test_data= pd.read_csv(\"test_lAUu6dG.csv\")"
      ],
      "execution_count": null,
      "outputs": []
    },
    {
      "cell_type": "code",
      "metadata": {
        "id": "i6iI17hmhSVi",
        "colab_type": "code",
        "colab": {},
        "outputId": "7ae0b987-61c6-4148-c587-a82ed1468491"
      },
      "source": [
        "train_data.shape,train_data.dtypes"
      ],
      "execution_count": null,
      "outputs": [
        {
          "output_type": "execute_result",
          "data": {
            "text/plain": [
              "((614, 13),\n",
              " Loan_ID               object\n",
              " Gender                object\n",
              " Married               object\n",
              " Dependents            object\n",
              " Education             object\n",
              " Self_Employed         object\n",
              " ApplicantIncome        int64\n",
              " CoapplicantIncome    float64\n",
              " LoanAmount           float64\n",
              " Loan_Amount_Term     float64\n",
              " Credit_History       float64\n",
              " Property_Area         object\n",
              " Loan_Status           object\n",
              " dtype: object)"
            ]
          },
          "metadata": {
            "tags": []
          },
          "execution_count": 3
        }
      ]
    },
    {
      "cell_type": "markdown",
      "metadata": {
        "id": "MjXK_UjOhSVv",
        "colab_type": "text"
      },
      "source": [
        "1- Variable Identification:\n",
        ">types of Varibles:\n",
        "* perdictor variable:\n",
        "     Loan_ID, Gender, Married, Dependents, Education,\n",
        "    Self_Employed, ApplicantIncome, CoapplicantIncome, LoanAmount,\n",
        "    Loan_Amount_Term, Credit_History, Property_Area,\n",
        "* Target variable:\n",
        "    Loan_Status\n",
        ">Data types of varibles: \n",
        "* Numerical Variablea:\n",
        "      1-continuous Varibles:ApplicantIncome,CoapplicantIncome,LoanAmount,Loan_Amount_Term\n",
        "      2-discret Varible:Credit_History\n",
        "* catogrical variable:\n",
        "      1- Gender , Married, Dependents,Education ,Self_Employed,Property_Area,\n",
        "      Loan_Status(Target) \n",
        "\n",
        "      \n"
      ]
    },
    {
      "cell_type": "code",
      "metadata": {
        "id": "zgL_JcUYhSVw",
        "colab_type": "code",
        "colab": {},
        "outputId": "43b64964-a2b1-443e-d55f-b46ba7e058a2"
      },
      "source": [
        "train_data.head()"
      ],
      "execution_count": null,
      "outputs": [
        {
          "output_type": "execute_result",
          "data": {
            "text/html": [
              "<div>\n",
              "<style scoped>\n",
              "    .dataframe tbody tr th:only-of-type {\n",
              "        vertical-align: middle;\n",
              "    }\n",
              "\n",
              "    .dataframe tbody tr th {\n",
              "        vertical-align: top;\n",
              "    }\n",
              "\n",
              "    .dataframe thead th {\n",
              "        text-align: right;\n",
              "    }\n",
              "</style>\n",
              "<table border=\"1\" class=\"dataframe\">\n",
              "  <thead>\n",
              "    <tr style=\"text-align: right;\">\n",
              "      <th></th>\n",
              "      <th>Loan_ID</th>\n",
              "      <th>Gender</th>\n",
              "      <th>Married</th>\n",
              "      <th>Dependents</th>\n",
              "      <th>Education</th>\n",
              "      <th>Self_Employed</th>\n",
              "      <th>ApplicantIncome</th>\n",
              "      <th>CoapplicantIncome</th>\n",
              "      <th>LoanAmount</th>\n",
              "      <th>Loan_Amount_Term</th>\n",
              "      <th>Credit_History</th>\n",
              "      <th>Property_Area</th>\n",
              "      <th>Loan_Status</th>\n",
              "    </tr>\n",
              "  </thead>\n",
              "  <tbody>\n",
              "    <tr>\n",
              "      <th>0</th>\n",
              "      <td>LP001002</td>\n",
              "      <td>Male</td>\n",
              "      <td>No</td>\n",
              "      <td>0</td>\n",
              "      <td>Graduate</td>\n",
              "      <td>No</td>\n",
              "      <td>5849</td>\n",
              "      <td>0.0</td>\n",
              "      <td>NaN</td>\n",
              "      <td>360.0</td>\n",
              "      <td>1.0</td>\n",
              "      <td>Urban</td>\n",
              "      <td>Y</td>\n",
              "    </tr>\n",
              "    <tr>\n",
              "      <th>1</th>\n",
              "      <td>LP001003</td>\n",
              "      <td>Male</td>\n",
              "      <td>Yes</td>\n",
              "      <td>1</td>\n",
              "      <td>Graduate</td>\n",
              "      <td>No</td>\n",
              "      <td>4583</td>\n",
              "      <td>1508.0</td>\n",
              "      <td>128.0</td>\n",
              "      <td>360.0</td>\n",
              "      <td>1.0</td>\n",
              "      <td>Rural</td>\n",
              "      <td>N</td>\n",
              "    </tr>\n",
              "    <tr>\n",
              "      <th>2</th>\n",
              "      <td>LP001005</td>\n",
              "      <td>Male</td>\n",
              "      <td>Yes</td>\n",
              "      <td>0</td>\n",
              "      <td>Graduate</td>\n",
              "      <td>Yes</td>\n",
              "      <td>3000</td>\n",
              "      <td>0.0</td>\n",
              "      <td>66.0</td>\n",
              "      <td>360.0</td>\n",
              "      <td>1.0</td>\n",
              "      <td>Urban</td>\n",
              "      <td>Y</td>\n",
              "    </tr>\n",
              "    <tr>\n",
              "      <th>3</th>\n",
              "      <td>LP001006</td>\n",
              "      <td>Male</td>\n",
              "      <td>Yes</td>\n",
              "      <td>0</td>\n",
              "      <td>Not Graduate</td>\n",
              "      <td>No</td>\n",
              "      <td>2583</td>\n",
              "      <td>2358.0</td>\n",
              "      <td>120.0</td>\n",
              "      <td>360.0</td>\n",
              "      <td>1.0</td>\n",
              "      <td>Urban</td>\n",
              "      <td>Y</td>\n",
              "    </tr>\n",
              "    <tr>\n",
              "      <th>4</th>\n",
              "      <td>LP001008</td>\n",
              "      <td>Male</td>\n",
              "      <td>No</td>\n",
              "      <td>0</td>\n",
              "      <td>Graduate</td>\n",
              "      <td>No</td>\n",
              "      <td>6000</td>\n",
              "      <td>0.0</td>\n",
              "      <td>141.0</td>\n",
              "      <td>360.0</td>\n",
              "      <td>1.0</td>\n",
              "      <td>Urban</td>\n",
              "      <td>Y</td>\n",
              "    </tr>\n",
              "  </tbody>\n",
              "</table>\n",
              "</div>"
            ],
            "text/plain": [
              "    Loan_ID Gender Married Dependents     Education Self_Employed  \\\n",
              "0  LP001002   Male      No          0      Graduate            No   \n",
              "1  LP001003   Male     Yes          1      Graduate            No   \n",
              "2  LP001005   Male     Yes          0      Graduate           Yes   \n",
              "3  LP001006   Male     Yes          0  Not Graduate            No   \n",
              "4  LP001008   Male      No          0      Graduate            No   \n",
              "\n",
              "   ApplicantIncome  CoapplicantIncome  LoanAmount  Loan_Amount_Term  \\\n",
              "0             5849                0.0         NaN             360.0   \n",
              "1             4583             1508.0       128.0             360.0   \n",
              "2             3000                0.0        66.0             360.0   \n",
              "3             2583             2358.0       120.0             360.0   \n",
              "4             6000                0.0       141.0             360.0   \n",
              "\n",
              "   Credit_History Property_Area Loan_Status  \n",
              "0             1.0         Urban           Y  \n",
              "1             1.0         Rural           N  \n",
              "2             1.0         Urban           Y  \n",
              "3             1.0         Urban           Y  \n",
              "4             1.0         Urban           Y  "
            ]
          },
          "metadata": {
            "tags": []
          },
          "execution_count": 4
        }
      ]
    },
    {
      "cell_type": "code",
      "metadata": {
        "id": "RonbckX3hSV7",
        "colab_type": "code",
        "colab": {},
        "outputId": "69e5c289-939b-4cee-8f40-c5f827bb48ae"
      },
      "source": [
        "train_data.dtypes"
      ],
      "execution_count": null,
      "outputs": [
        {
          "output_type": "execute_result",
          "data": {
            "text/plain": [
              "Loan_ID               object\n",
              "Gender                object\n",
              "Married               object\n",
              "Dependents            object\n",
              "Education             object\n",
              "Self_Employed         object\n",
              "ApplicantIncome        int64\n",
              "CoapplicantIncome    float64\n",
              "LoanAmount           float64\n",
              "Loan_Amount_Term     float64\n",
              "Credit_History       float64\n",
              "Property_Area         object\n",
              "Loan_Status           object\n",
              "dtype: object"
            ]
          },
          "metadata": {
            "tags": []
          },
          "execution_count": 5
        }
      ]
    },
    {
      "cell_type": "markdown",
      "metadata": {
        "id": "pKrtR6wKhSWG",
        "colab_type": "text"
      },
      "source": [
        ">> E D A"
      ]
    },
    {
      "cell_type": "markdown",
      "metadata": {
        "id": "sKWjuudjhSWH",
        "colab_type": "text"
      },
      "source": [
        "## Univariate Analysis:\n",
        "* At this stage, we explore variables one by one"
      ]
    },
    {
      "cell_type": "markdown",
      "metadata": {
        "id": "1MKb9xv5hSWK",
        "colab_type": "text"
      },
      "source": [
        "> Continuous Variables:- "
      ]
    },
    {
      "cell_type": "code",
      "metadata": {
        "id": "cRBg7CvyhSWL",
        "colab_type": "code",
        "colab": {},
        "outputId": "76692bfa-0c3d-4dfd-ad9d-e7f03980c766"
      },
      "source": [
        "#ApplicantIncome,CoapplicantIncome,LoanAmount\n",
        "train_data.describe()"
      ],
      "execution_count": null,
      "outputs": [
        {
          "output_type": "execute_result",
          "data": {
            "text/html": [
              "<div>\n",
              "<style scoped>\n",
              "    .dataframe tbody tr th:only-of-type {\n",
              "        vertical-align: middle;\n",
              "    }\n",
              "\n",
              "    .dataframe tbody tr th {\n",
              "        vertical-align: top;\n",
              "    }\n",
              "\n",
              "    .dataframe thead th {\n",
              "        text-align: right;\n",
              "    }\n",
              "</style>\n",
              "<table border=\"1\" class=\"dataframe\">\n",
              "  <thead>\n",
              "    <tr style=\"text-align: right;\">\n",
              "      <th></th>\n",
              "      <th>ApplicantIncome</th>\n",
              "      <th>CoapplicantIncome</th>\n",
              "      <th>LoanAmount</th>\n",
              "      <th>Loan_Amount_Term</th>\n",
              "      <th>Credit_History</th>\n",
              "    </tr>\n",
              "  </thead>\n",
              "  <tbody>\n",
              "    <tr>\n",
              "      <th>count</th>\n",
              "      <td>614.000000</td>\n",
              "      <td>614.000000</td>\n",
              "      <td>592.000000</td>\n",
              "      <td>600.00000</td>\n",
              "      <td>564.000000</td>\n",
              "    </tr>\n",
              "    <tr>\n",
              "      <th>mean</th>\n",
              "      <td>5403.459283</td>\n",
              "      <td>1621.245798</td>\n",
              "      <td>146.412162</td>\n",
              "      <td>342.00000</td>\n",
              "      <td>0.842199</td>\n",
              "    </tr>\n",
              "    <tr>\n",
              "      <th>std</th>\n",
              "      <td>6109.041673</td>\n",
              "      <td>2926.248369</td>\n",
              "      <td>85.587325</td>\n",
              "      <td>65.12041</td>\n",
              "      <td>0.364878</td>\n",
              "    </tr>\n",
              "    <tr>\n",
              "      <th>min</th>\n",
              "      <td>150.000000</td>\n",
              "      <td>0.000000</td>\n",
              "      <td>9.000000</td>\n",
              "      <td>12.00000</td>\n",
              "      <td>0.000000</td>\n",
              "    </tr>\n",
              "    <tr>\n",
              "      <th>25%</th>\n",
              "      <td>2877.500000</td>\n",
              "      <td>0.000000</td>\n",
              "      <td>100.000000</td>\n",
              "      <td>360.00000</td>\n",
              "      <td>1.000000</td>\n",
              "    </tr>\n",
              "    <tr>\n",
              "      <th>50%</th>\n",
              "      <td>3812.500000</td>\n",
              "      <td>1188.500000</td>\n",
              "      <td>128.000000</td>\n",
              "      <td>360.00000</td>\n",
              "      <td>1.000000</td>\n",
              "    </tr>\n",
              "    <tr>\n",
              "      <th>75%</th>\n",
              "      <td>5795.000000</td>\n",
              "      <td>2297.250000</td>\n",
              "      <td>168.000000</td>\n",
              "      <td>360.00000</td>\n",
              "      <td>1.000000</td>\n",
              "    </tr>\n",
              "    <tr>\n",
              "      <th>max</th>\n",
              "      <td>81000.000000</td>\n",
              "      <td>41667.000000</td>\n",
              "      <td>700.000000</td>\n",
              "      <td>480.00000</td>\n",
              "      <td>1.000000</td>\n",
              "    </tr>\n",
              "  </tbody>\n",
              "</table>\n",
              "</div>"
            ],
            "text/plain": [
              "       ApplicantIncome  CoapplicantIncome  LoanAmount  Loan_Amount_Term  \\\n",
              "count       614.000000         614.000000  592.000000         600.00000   \n",
              "mean       5403.459283        1621.245798  146.412162         342.00000   \n",
              "std        6109.041673        2926.248369   85.587325          65.12041   \n",
              "min         150.000000           0.000000    9.000000          12.00000   \n",
              "25%        2877.500000           0.000000  100.000000         360.00000   \n",
              "50%        3812.500000        1188.500000  128.000000         360.00000   \n",
              "75%        5795.000000        2297.250000  168.000000         360.00000   \n",
              "max       81000.000000       41667.000000  700.000000         480.00000   \n",
              "\n",
              "       Credit_History  \n",
              "count      564.000000  \n",
              "mean         0.842199  \n",
              "std          0.364878  \n",
              "min          0.000000  \n",
              "25%          1.000000  \n",
              "50%          1.000000  \n",
              "75%          1.000000  \n",
              "max          1.000000  "
            ]
          },
          "metadata": {
            "tags": []
          },
          "execution_count": 6
        }
      ]
    },
    {
      "cell_type": "markdown",
      "metadata": {
        "id": "KsN0T-aMhSWT",
        "colab_type": "text"
      },
      "source": [
        "1- ApplicantIncome column"
      ]
    },
    {
      "cell_type": "code",
      "metadata": {
        "id": "Hrgw296_hSWV",
        "colab_type": "code",
        "colab": {},
        "outputId": "872a716d-f571-41df-906c-30c65d080b11"
      },
      "source": [
        "sn.distplot(train_data['ApplicantIncome'])"
      ],
      "execution_count": null,
      "outputs": [
        {
          "output_type": "execute_result",
          "data": {
            "text/plain": [
              "<matplotlib.axes._subplots.AxesSubplot at 0xb900d88>"
            ]
          },
          "metadata": {
            "tags": []
          },
          "execution_count": 7
        },
        {
          "output_type": "display_data",
          "data": {
            "image/png": "[encoded data removed]",
            "text/plain": [
              "<Figure size 432x288 with 1 Axes>"
            ]
          },
          "metadata": {
            "tags": [],
            "needs_background": "light"
          }
        }
      ]
    },
    {
      "cell_type": "code",
      "metadata": {
        "id": "5_C00CffhSWb",
        "colab_type": "code",
        "colab": {},
        "outputId": "bc957545-d1fe-4b3a-9162-66900e7fe5f4"
      },
      "source": [
        "# we transform ApplicantIncome by log\n",
        "sn.distplot(np.log(train_data['ApplicantIncome']))"
      ],
      "execution_count": null,
      "outputs": [
        {
          "output_type": "execute_result",
          "data": {
            "text/plain": [
              "<matplotlib.axes._subplots.AxesSubplot at 0xb9af1c8>"
            ]
          },
          "metadata": {
            "tags": []
          },
          "execution_count": 8
        },
        {
          "output_type": "display_data",
          "data": {
            "image/png": "[encoded data removed]",
            "text/plain": [
              "<Figure size 432x288 with 1 Axes>"
            ]
          },
          "metadata": {
            "tags": [],
            "needs_background": "light"
          }
        }
      ]
    },
    {
      "cell_type": "markdown",
      "metadata": {
        "id": "Q9Lsb9imhSWl",
        "colab_type": "text"
      },
      "source": [
        "2- Co applicantIncome column"
      ]
    },
    {
      "cell_type": "code",
      "metadata": {
        "id": "fO0I93U6hSWm",
        "colab_type": "code",
        "colab": {},
        "outputId": "a64bd073-59f6-4d02-ad8f-9b3920fa3282"
      },
      "source": [
        "sn.distplot(train_data['CoapplicantIncome'])"
      ],
      "execution_count": null,
      "outputs": [
        {
          "output_type": "execute_result",
          "data": {
            "text/plain": [
              "<matplotlib.axes._subplots.AxesSubplot at 0xbb23908>"
            ]
          },
          "metadata": {
            "tags": []
          },
          "execution_count": 9
        },
        {
          "output_type": "display_data",
          "data": {
            "image/png": "[encoded data removed]",
            "text/plain": [
              "<Figure size 432x288 with 1 Axes>"
            ]
          },
          "metadata": {
            "tags": [],
            "needs_background": "light"
          }
        }
      ]
    },
    {
      "cell_type": "markdown",
      "metadata": {
        "id": "anJlVWpchSWt",
        "colab_type": "text"
      },
      "source": [
        "3- LoanAmount  "
      ]
    },
    {
      "cell_type": "code",
      "metadata": {
        "id": "gJ1pAQzmhSWv",
        "colab_type": "code",
        "colab": {},
        "outputId": "66fa59aa-8837-403c-e6a9-2d600fc98e0a"
      },
      "source": [
        "sn.distplot(train_data['LoanAmount'])"
      ],
      "execution_count": null,
      "outputs": [
        {
          "output_type": "execute_result",
          "data": {
            "text/plain": [
              "<matplotlib.axes._subplots.AxesSubplot at 0xbc3d908>"
            ]
          },
          "metadata": {
            "tags": []
          },
          "execution_count": 10
        },
        {
          "output_type": "display_data",
          "data": {
            "image/png": "[encoded data removed]",
            "text/plain": [
              "<Figure size 432x288 with 1 Axes>"
            ]
          },
          "metadata": {
            "tags": [],
            "needs_background": "light"
          }
        }
      ]
    },
    {
      "cell_type": "code",
      "metadata": {
        "id": "r1qVUkn4hSW4",
        "colab_type": "code",
        "colab": {},
        "outputId": "07d750d2-7be0-4dd8-df41-b53762a685a6"
      },
      "source": [
        "sn.distplot(np.log(train_data['LoanAmount']))"
      ],
      "execution_count": null,
      "outputs": [
        {
          "output_type": "execute_result",
          "data": {
            "text/plain": [
              "<matplotlib.axes._subplots.AxesSubplot at 0xbb6f088>"
            ]
          },
          "metadata": {
            "tags": []
          },
          "execution_count": 11
        },
        {
          "output_type": "display_data",
          "data": {
            "image/png": "[encoded data removed]",
            "text/plain": [
              "<Figure size 432x288 with 1 Axes>"
            ]
          },
          "metadata": {
            "tags": [],
            "needs_background": "light"
          }
        }
      ]
    },
    {
      "cell_type": "markdown",
      "metadata": {
        "id": "66VIUZpphSXA",
        "colab_type": "text"
      },
      "source": [
        "> Categorical Variables"
      ]
    },
    {
      "cell_type": "markdown",
      "metadata": {
        "id": "zW1O25E0hSXD",
        "colab_type": "text"
      },
      "source": [
        "* Describing Data "
      ]
    },
    {
      "cell_type": "code",
      "metadata": {
        "id": "OUIHGT3mhSXG",
        "colab_type": "code",
        "colab": {},
        "outputId": "19b6831e-8b24-4758-fccc-8ea53a4f8fb9"
      },
      "source": [
        "train_data.describe(include='object')"
      ],
      "execution_count": null,
      "outputs": [
        {
          "output_type": "execute_result",
          "data": {
            "text/html": [
              "<div>\n",
              "<style scoped>\n",
              "    .dataframe tbody tr th:only-of-type {\n",
              "        vertical-align: middle;\n",
              "    }\n",
              "\n",
              "    .dataframe tbody tr th {\n",
              "        vertical-align: top;\n",
              "    }\n",
              "\n",
              "    .dataframe thead th {\n",
              "        text-align: right;\n",
              "    }\n",
              "</style>\n",
              "<table border=\"1\" class=\"dataframe\">\n",
              "  <thead>\n",
              "    <tr style=\"text-align: right;\">\n",
              "      <th></th>\n",
              "      <th>Loan_ID</th>\n",
              "      <th>Gender</th>\n",
              "      <th>Married</th>\n",
              "      <th>Dependents</th>\n",
              "      <th>Education</th>\n",
              "      <th>Self_Employed</th>\n",
              "      <th>Property_Area</th>\n",
              "      <th>Loan_Status</th>\n",
              "    </tr>\n",
              "  </thead>\n",
              "  <tbody>\n",
              "    <tr>\n",
              "      <th>count</th>\n",
              "      <td>614</td>\n",
              "      <td>601</td>\n",
              "      <td>611</td>\n",
              "      <td>599</td>\n",
              "      <td>614</td>\n",
              "      <td>582</td>\n",
              "      <td>614</td>\n",
              "      <td>614</td>\n",
              "    </tr>\n",
              "    <tr>\n",
              "      <th>unique</th>\n",
              "      <td>614</td>\n",
              "      <td>2</td>\n",
              "      <td>2</td>\n",
              "      <td>4</td>\n",
              "      <td>2</td>\n",
              "      <td>2</td>\n",
              "      <td>3</td>\n",
              "      <td>2</td>\n",
              "    </tr>\n",
              "    <tr>\n",
              "      <th>top</th>\n",
              "      <td>LP002390</td>\n",
              "      <td>Male</td>\n",
              "      <td>Yes</td>\n",
              "      <td>0</td>\n",
              "      <td>Graduate</td>\n",
              "      <td>No</td>\n",
              "      <td>Semiurban</td>\n",
              "      <td>Y</td>\n",
              "    </tr>\n",
              "    <tr>\n",
              "      <th>freq</th>\n",
              "      <td>1</td>\n",
              "      <td>489</td>\n",
              "      <td>398</td>\n",
              "      <td>345</td>\n",
              "      <td>480</td>\n",
              "      <td>500</td>\n",
              "      <td>233</td>\n",
              "      <td>422</td>\n",
              "    </tr>\n",
              "  </tbody>\n",
              "</table>\n",
              "</div>"
            ],
            "text/plain": [
              "         Loan_ID Gender Married Dependents Education Self_Employed  \\\n",
              "count        614    601     611        599       614           582   \n",
              "unique       614      2       2          4         2             2   \n",
              "top     LP002390   Male     Yes          0  Graduate            No   \n",
              "freq           1    489     398        345       480           500   \n",
              "\n",
              "       Property_Area Loan_Status  \n",
              "count            614         614  \n",
              "unique             3           2  \n",
              "top        Semiurban           Y  \n",
              "freq             233         422  "
            ]
          },
          "metadata": {
            "tags": []
          },
          "execution_count": 12
        }
      ]
    },
    {
      "cell_type": "markdown",
      "metadata": {
        "id": "QfM9zFRChSXM",
        "colab_type": "text"
      },
      "source": [
        "## Bivariate Analysis"
      ]
    },
    {
      "cell_type": "code",
      "metadata": {
        "id": "IJLWmjjShSXO",
        "colab_type": "code",
        "colab": {}
      },
      "source": [
        "dct={'Y':1,'N':0}\n",
        "train_data.replace(dct,inplace=True)"
      ],
      "execution_count": null,
      "outputs": []
    },
    {
      "cell_type": "markdown",
      "metadata": {
        "id": "GZWGPPzQhSXX",
        "colab_type": "text"
      },
      "source": [
        "> Catogerical Variables with Target"
      ]
    },
    {
      "cell_type": "markdown",
      "metadata": {
        "id": "oY81Mi9QhSXa",
        "colab_type": "text"
      },
      "source": [
        "1- Gender &&& Loan_Status"
      ]
    },
    {
      "cell_type": "code",
      "metadata": {
        "id": "oPp1Ju_IhSXc",
        "colab_type": "code",
        "colab": {},
        "outputId": "b04c301d-f654-4bad-8e3d-886d6bebbbb2"
      },
      "source": [
        "\n",
        "train_data[['Gender','Loan_Status']].groupby('Gender').mean().sort_values(by='Loan_Status',ascending=False)\n"
      ],
      "execution_count": null,
      "outputs": [
        {
          "output_type": "execute_result",
          "data": {
            "text/html": [
              "<div>\n",
              "<style scoped>\n",
              "    .dataframe tbody tr th:only-of-type {\n",
              "        vertical-align: middle;\n",
              "    }\n",
              "\n",
              "    .dataframe tbody tr th {\n",
              "        vertical-align: top;\n",
              "    }\n",
              "\n",
              "    .dataframe thead th {\n",
              "        text-align: right;\n",
              "    }\n",
              "</style>\n",
              "<table border=\"1\" class=\"dataframe\">\n",
              "  <thead>\n",
              "    <tr style=\"text-align: right;\">\n",
              "      <th></th>\n",
              "      <th>Loan_Status</th>\n",
              "    </tr>\n",
              "    <tr>\n",
              "      <th>Gender</th>\n",
              "      <th></th>\n",
              "    </tr>\n",
              "  </thead>\n",
              "  <tbody>\n",
              "    <tr>\n",
              "      <th>Male</th>\n",
              "      <td>0.693252</td>\n",
              "    </tr>\n",
              "    <tr>\n",
              "      <th>Female</th>\n",
              "      <td>0.669643</td>\n",
              "    </tr>\n",
              "  </tbody>\n",
              "</table>\n",
              "</div>"
            ],
            "text/plain": [
              "        Loan_Status\n",
              "Gender             \n",
              "Male       0.693252\n",
              "Female     0.669643"
            ]
          },
          "metadata": {
            "tags": []
          },
          "execution_count": 14
        }
      ]
    },
    {
      "cell_type": "code",
      "metadata": {
        "id": "r2zkGdpFhSXj",
        "colab_type": "code",
        "colab": {},
        "outputId": "c480336e-61b6-435f-a2db-99e27e921a30"
      },
      "source": [
        "plt.figure(figsize=(5,4))\n",
        "data1=pd.concat([train_data['Gender'],train_data['Loan_Status']],axis=1)\n",
        "sn.barplot(x='Gender', y='Loan_Status',data=data1)"
      ],
      "execution_count": null,
      "outputs": [
        {
          "output_type": "execute_result",
          "data": {
            "text/plain": [
              "<matplotlib.axes._subplots.AxesSubplot at 0x3fcb148>"
            ]
          },
          "metadata": {
            "tags": []
          },
          "execution_count": 15
        },
        {
          "output_type": "display_data",
          "data": {
            "image/png": "[encoded data removed]",
            "text/plain": [
              "<Figure size 360x288 with 1 Axes>"
            ]
          },
          "metadata": {
            "tags": [],
            "needs_background": "light"
          }
        }
      ]
    },
    {
      "cell_type": "markdown",
      "metadata": {
        "id": "jSnwMlOPhSXu",
        "colab_type": "text"
      },
      "source": [
        "2-  Married &&&& Loan_Status"
      ]
    },
    {
      "cell_type": "code",
      "metadata": {
        "id": "HiLd0ZM5hSXx",
        "colab_type": "code",
        "colab": {},
        "outputId": "a8876b20-24cc-4e9b-f0ea-f33e1bc68769"
      },
      "source": [
        "\n",
        "train_data[['Married','Loan_Status']].groupby('Married').mean().sort_values(by='Loan_Status',ascending=False)\n"
      ],
      "execution_count": null,
      "outputs": [
        {
          "output_type": "execute_result",
          "data": {
            "text/html": [
              "<div>\n",
              "<style scoped>\n",
              "    .dataframe tbody tr th:only-of-type {\n",
              "        vertical-align: middle;\n",
              "    }\n",
              "\n",
              "    .dataframe tbody tr th {\n",
              "        vertical-align: top;\n",
              "    }\n",
              "\n",
              "    .dataframe thead th {\n",
              "        text-align: right;\n",
              "    }\n",
              "</style>\n",
              "<table border=\"1\" class=\"dataframe\">\n",
              "  <thead>\n",
              "    <tr style=\"text-align: right;\">\n",
              "      <th></th>\n",
              "      <th>Loan_Status</th>\n",
              "    </tr>\n",
              "    <tr>\n",
              "      <th>Married</th>\n",
              "      <th></th>\n",
              "    </tr>\n",
              "  </thead>\n",
              "  <tbody>\n",
              "    <tr>\n",
              "      <th>Yes</th>\n",
              "      <td>0.716080</td>\n",
              "    </tr>\n",
              "    <tr>\n",
              "      <th>No</th>\n",
              "      <td>0.629108</td>\n",
              "    </tr>\n",
              "  </tbody>\n",
              "</table>\n",
              "</div>"
            ],
            "text/plain": [
              "         Loan_Status\n",
              "Married             \n",
              "Yes         0.716080\n",
              "No          0.629108"
            ]
          },
          "metadata": {
            "tags": []
          },
          "execution_count": 16
        }
      ]
    },
    {
      "cell_type": "code",
      "metadata": {
        "id": "lc9zR7QbhSYE",
        "colab_type": "code",
        "colab": {},
        "outputId": "f3c33567-fc26-4b97-a672-e9db50245422"
      },
      "source": [
        "plt.figure(figsize=(5,4))\n",
        "data1=pd.concat([train_data['Married'],train_data['Loan_Status']],axis=1)\n",
        "sn.barplot(x='Married', y='Loan_Status',data=data1)"
      ],
      "execution_count": null,
      "outputs": [
        {
          "output_type": "execute_result",
          "data": {
            "text/plain": [
              "<matplotlib.axes._subplots.AxesSubplot at 0xbdf8dc8>"
            ]
          },
          "metadata": {
            "tags": []
          },
          "execution_count": 17
        },
        {
          "output_type": "display_data",
          "data": {
            "image/png": "[encoded data removed]",
            "text/plain": [
              "<Figure size 360x288 with 1 Axes>"
            ]
          },
          "metadata": {
            "tags": [],
            "needs_background": "light"
          }
        }
      ]
    },
    {
      "cell_type": "markdown",
      "metadata": {
        "id": "59zPXDhWhSYO",
        "colab_type": "text"
      },
      "source": [
        "3- Dependents && Loan_Status"
      ]
    },
    {
      "cell_type": "code",
      "metadata": {
        "id": "CdVsF-uEhSYP",
        "colab_type": "code",
        "colab": {},
        "outputId": "bdceb346-f601-4584-c02c-d949f42f9cb2"
      },
      "source": [
        "train_data[['Dependents','Loan_Status']].groupby('Dependents').mean().sort_values(by='Loan_Status',ascending=False)\n"
      ],
      "execution_count": null,
      "outputs": [
        {
          "output_type": "execute_result",
          "data": {
            "text/html": [
              "<div>\n",
              "<style scoped>\n",
              "    .dataframe tbody tr th:only-of-type {\n",
              "        vertical-align: middle;\n",
              "    }\n",
              "\n",
              "    .dataframe tbody tr th {\n",
              "        vertical-align: top;\n",
              "    }\n",
              "\n",
              "    .dataframe thead th {\n",
              "        text-align: right;\n",
              "    }\n",
              "</style>\n",
              "<table border=\"1\" class=\"dataframe\">\n",
              "  <thead>\n",
              "    <tr style=\"text-align: right;\">\n",
              "      <th></th>\n",
              "      <th>Loan_Status</th>\n",
              "    </tr>\n",
              "    <tr>\n",
              "      <th>Dependents</th>\n",
              "      <th></th>\n",
              "    </tr>\n",
              "  </thead>\n",
              "  <tbody>\n",
              "    <tr>\n",
              "      <th>2</th>\n",
              "      <td>0.752475</td>\n",
              "    </tr>\n",
              "    <tr>\n",
              "      <th>0</th>\n",
              "      <td>0.689855</td>\n",
              "    </tr>\n",
              "    <tr>\n",
              "      <th>1</th>\n",
              "      <td>0.647059</td>\n",
              "    </tr>\n",
              "    <tr>\n",
              "      <th>3+</th>\n",
              "      <td>0.647059</td>\n",
              "    </tr>\n",
              "  </tbody>\n",
              "</table>\n",
              "</div>"
            ],
            "text/plain": [
              "            Loan_Status\n",
              "Dependents             \n",
              "2              0.752475\n",
              "0              0.689855\n",
              "1              0.647059\n",
              "3+             0.647059"
            ]
          },
          "metadata": {
            "tags": []
          },
          "execution_count": 18
        }
      ]
    },
    {
      "cell_type": "code",
      "metadata": {
        "id": "hwIFlPnXhSYV",
        "colab_type": "code",
        "colab": {},
        "outputId": "8b019834-3f8d-4884-db27-68daae170a6c"
      },
      "source": [
        "plt.figure(figsize=(5,4))\n",
        "data1=pd.concat([train_data['Dependents'],train_data['Loan_Status']],axis=1)\n",
        "sn.barplot(x='Dependents', y='Loan_Status',data=data1)"
      ],
      "execution_count": null,
      "outputs": [
        {
          "output_type": "execute_result",
          "data": {
            "text/plain": [
              "<matplotlib.axes._subplots.AxesSubplot at 0xbe83b08>"
            ]
          },
          "metadata": {
            "tags": []
          },
          "execution_count": 19
        },
        {
          "output_type": "display_data",
          "data": {
            "image/png": "[encoded data removed]",
            "text/plain": [
              "<Figure size 360x288 with 1 Axes>"
            ]
          },
          "metadata": {
            "tags": [],
            "needs_background": "light"
          }
        }
      ]
    },
    {
      "cell_type": "markdown",
      "metadata": {
        "id": "aYQftLnPhSYd",
        "colab_type": "text"
      },
      "source": [
        "4- Education&& Loan_Status"
      ]
    },
    {
      "cell_type": "code",
      "metadata": {
        "id": "8hqusu9fhSYe",
        "colab_type": "code",
        "colab": {},
        "outputId": "4c5ad33a-9b7c-4db1-b609-c62ec4a82012"
      },
      "source": [
        "train_data[['Education','Loan_Status']].groupby('Education').mean().sort_values(by='Loan_Status',ascending=False)\n"
      ],
      "execution_count": null,
      "outputs": [
        {
          "output_type": "execute_result",
          "data": {
            "text/html": [
              "<div>\n",
              "<style scoped>\n",
              "    .dataframe tbody tr th:only-of-type {\n",
              "        vertical-align: middle;\n",
              "    }\n",
              "\n",
              "    .dataframe tbody tr th {\n",
              "        vertical-align: top;\n",
              "    }\n",
              "\n",
              "    .dataframe thead th {\n",
              "        text-align: right;\n",
              "    }\n",
              "</style>\n",
              "<table border=\"1\" class=\"dataframe\">\n",
              "  <thead>\n",
              "    <tr style=\"text-align: right;\">\n",
              "      <th></th>\n",
              "      <th>Loan_Status</th>\n",
              "    </tr>\n",
              "    <tr>\n",
              "      <th>Education</th>\n",
              "      <th></th>\n",
              "    </tr>\n",
              "  </thead>\n",
              "  <tbody>\n",
              "    <tr>\n",
              "      <th>Graduate</th>\n",
              "      <td>0.708333</td>\n",
              "    </tr>\n",
              "    <tr>\n",
              "      <th>Not Graduate</th>\n",
              "      <td>0.611940</td>\n",
              "    </tr>\n",
              "  </tbody>\n",
              "</table>\n",
              "</div>"
            ],
            "text/plain": [
              "              Loan_Status\n",
              "Education                \n",
              "Graduate         0.708333\n",
              "Not Graduate     0.611940"
            ]
          },
          "metadata": {
            "tags": []
          },
          "execution_count": 20
        }
      ]
    },
    {
      "cell_type": "code",
      "metadata": {
        "id": "8aZevwWMhSYm",
        "colab_type": "code",
        "colab": {},
        "outputId": "c408dcb4-5537-405d-f015-c05536751810"
      },
      "source": [
        "plt.figure(figsize=(5,4))\n",
        "data1=pd.concat([train_data['Education'],train_data['Loan_Status']],axis=1)\n",
        "sn.barplot(x='Education', y='Loan_Status',data=data1)"
      ],
      "execution_count": null,
      "outputs": [
        {
          "output_type": "execute_result",
          "data": {
            "text/plain": [
              "<matplotlib.axes._subplots.AxesSubplot at 0xbf5ea08>"
            ]
          },
          "metadata": {
            "tags": []
          },
          "execution_count": 21
        },
        {
          "output_type": "display_data",
          "data": {
            "image/png": "[encoded data removed]",
            "text/plain": [
              "<Figure size 360x288 with 1 Axes>"
            ]
          },
          "metadata": {
            "tags": [],
            "needs_background": "light"
          }
        }
      ]
    },
    {
      "cell_type": "markdown",
      "metadata": {
        "id": "zd9__W-bhSYv",
        "colab_type": "text"
      },
      "source": [
        "5- Self_Employed&& Loan_Status"
      ]
    },
    {
      "cell_type": "code",
      "metadata": {
        "id": "nTBunL2ThSYv",
        "colab_type": "code",
        "colab": {},
        "outputId": "57737bb0-53b8-4cd5-e385-51e4f15057f8"
      },
      "source": [
        "plt.figure(figsize=(5,4))\n",
        "data1=pd.concat([train_data['Self_Employed'],train_data['Loan_Status']],axis=1)\n",
        "sn.barplot(x='Self_Employed', y='Loan_Status',data=data1)"
      ],
      "execution_count": null,
      "outputs": [
        {
          "output_type": "execute_result",
          "data": {
            "text/plain": [
              "<matplotlib.axes._subplots.AxesSubplot at 0xbf5e8c8>"
            ]
          },
          "metadata": {
            "tags": []
          },
          "execution_count": 22
        },
        {
          "output_type": "display_data",
          "data": {
            "image/png": "[encoded data removed]",
            "text/plain": [
              "<Figure size 360x288 with 1 Axes>"
            ]
          },
          "metadata": {
            "tags": [],
            "needs_background": "light"
          }
        }
      ]
    },
    {
      "cell_type": "markdown",
      "metadata": {
        "id": "HbmDO_dxhSY0",
        "colab_type": "text"
      },
      "source": [
        "6- Property_Area&&Loan_Status"
      ]
    },
    {
      "cell_type": "code",
      "metadata": {
        "id": "mZMgx0UThSY5",
        "colab_type": "code",
        "colab": {},
        "outputId": "ec90d664-45bc-404e-9a19-0fe235ee1bcb"
      },
      "source": [
        "plt.figure(figsize=(5,4))\n",
        "data1=pd.concat([train_data['Property_Area'],train_data['Loan_Status']],axis=1)\n",
        "sn.barplot(x='Property_Area', y='Loan_Status',data=data1)"
      ],
      "execution_count": null,
      "outputs": [
        {
          "output_type": "execute_result",
          "data": {
            "text/plain": [
              "<matplotlib.axes._subplots.AxesSubplot at 0xbff45c8>"
            ]
          },
          "metadata": {
            "tags": []
          },
          "execution_count": 23
        },
        {
          "output_type": "display_data",
          "data": {
            "image/png": "[encoded data removed]",
            "text/plain": [
              "<Figure size 360x288 with 1 Axes>"
            ]
          },
          "metadata": {
            "tags": [],
            "needs_background": "light"
          }
        }
      ]
    },
    {
      "cell_type": "markdown",
      "metadata": {
        "id": "sjL4Arv_hSZC",
        "colab_type": "text"
      },
      "source": [
        "> continuous Variables With Target"
      ]
    },
    {
      "cell_type": "markdown",
      "metadata": {
        "id": "EcpSN36QhSZE",
        "colab_type": "text"
      },
      "source": [
        "## Dealing With missing Values"
      ]
    },
    {
      "cell_type": "markdown",
      "metadata": {
        "id": "tReR0XqVhSZF",
        "colab_type": "text"
      },
      "source": [
        "#### Missing values in Train Dataset"
      ]
    },
    {
      "cell_type": "code",
      "metadata": {
        "id": "t5vXgqpuhSZG",
        "colab_type": "code",
        "colab": {},
        "outputId": "103cdb6a-3d0a-4001-f6e0-c675c3fec88f"
      },
      "source": [
        "total = train_data.isnull().sum()\n",
        "precent= (train_data.isnull().sum()/train_data.count())*100\n",
        "missing=pd.concat([total,precent],axis=1,keys=['Missing values','%'])\n",
        "missing"
      ],
      "execution_count": null,
      "outputs": [
        {
          "output_type": "execute_result",
          "data": {
            "text/html": [
              "<div>\n",
              "<style scoped>\n",
              "    .dataframe tbody tr th:only-of-type {\n",
              "        vertical-align: middle;\n",
              "    }\n",
              "\n",
              "    .dataframe tbody tr th {\n",
              "        vertical-align: top;\n",
              "    }\n",
              "\n",
              "    .dataframe thead th {\n",
              "        text-align: right;\n",
              "    }\n",
              "</style>\n",
              "<table border=\"1\" class=\"dataframe\">\n",
              "  <thead>\n",
              "    <tr style=\"text-align: right;\">\n",
              "      <th></th>\n",
              "      <th>Missing values</th>\n",
              "      <th>%</th>\n",
              "    </tr>\n",
              "  </thead>\n",
              "  <tbody>\n",
              "    <tr>\n",
              "      <th>Loan_ID</th>\n",
              "      <td>0</td>\n",
              "      <td>0.000000</td>\n",
              "    </tr>\n",
              "    <tr>\n",
              "      <th>Gender</th>\n",
              "      <td>13</td>\n",
              "      <td>2.163062</td>\n",
              "    </tr>\n",
              "    <tr>\n",
              "      <th>Married</th>\n",
              "      <td>3</td>\n",
              "      <td>0.490998</td>\n",
              "    </tr>\n",
              "    <tr>\n",
              "      <th>Dependents</th>\n",
              "      <td>15</td>\n",
              "      <td>2.504174</td>\n",
              "    </tr>\n",
              "    <tr>\n",
              "      <th>Education</th>\n",
              "      <td>0</td>\n",
              "      <td>0.000000</td>\n",
              "    </tr>\n",
              "    <tr>\n",
              "      <th>Self_Employed</th>\n",
              "      <td>32</td>\n",
              "      <td>5.498282</td>\n",
              "    </tr>\n",
              "    <tr>\n",
              "      <th>ApplicantIncome</th>\n",
              "      <td>0</td>\n",
              "      <td>0.000000</td>\n",
              "    </tr>\n",
              "    <tr>\n",
              "      <th>CoapplicantIncome</th>\n",
              "      <td>0</td>\n",
              "      <td>0.000000</td>\n",
              "    </tr>\n",
              "    <tr>\n",
              "      <th>LoanAmount</th>\n",
              "      <td>22</td>\n",
              "      <td>3.716216</td>\n",
              "    </tr>\n",
              "    <tr>\n",
              "      <th>Loan_Amount_Term</th>\n",
              "      <td>14</td>\n",
              "      <td>2.333333</td>\n",
              "    </tr>\n",
              "    <tr>\n",
              "      <th>Credit_History</th>\n",
              "      <td>50</td>\n",
              "      <td>8.865248</td>\n",
              "    </tr>\n",
              "    <tr>\n",
              "      <th>Property_Area</th>\n",
              "      <td>0</td>\n",
              "      <td>0.000000</td>\n",
              "    </tr>\n",
              "    <tr>\n",
              "      <th>Loan_Status</th>\n",
              "      <td>0</td>\n",
              "      <td>0.000000</td>\n",
              "    </tr>\n",
              "  </tbody>\n",
              "</table>\n",
              "</div>"
            ],
            "text/plain": [
              "                   Missing values         %\n",
              "Loan_ID                         0  0.000000\n",
              "Gender                         13  2.163062\n",
              "Married                         3  0.490998\n",
              "Dependents                     15  2.504174\n",
              "Education                       0  0.000000\n",
              "Self_Employed                  32  5.498282\n",
              "ApplicantIncome                 0  0.000000\n",
              "CoapplicantIncome               0  0.000000\n",
              "LoanAmount                     22  3.716216\n",
              "Loan_Amount_Term               14  2.333333\n",
              "Credit_History                 50  8.865248\n",
              "Property_Area                   0  0.000000\n",
              "Loan_Status                     0  0.000000"
            ]
          },
          "metadata": {
            "tags": []
          },
          "execution_count": 24
        }
      ]
    },
    {
      "cell_type": "markdown",
      "metadata": {
        "id": "f_r4XdLhhSZN",
        "colab_type": "text"
      },
      "source": [
        "####  Missing Values in test Dataset "
      ]
    },
    {
      "cell_type": "code",
      "metadata": {
        "id": "Xcp_Dsi4hSZO",
        "colab_type": "code",
        "colab": {},
        "outputId": "2b94e7e6-8ced-41cb-87c8-9817620bb620"
      },
      "source": [
        "total = test_data.isnull().sum()\n",
        "precent= (test_data.isnull().sum()/test_data.count())*100\n",
        "missing=pd.concat([total,precent],axis=1,keys=['Missing values','%'])\n",
        "missing"
      ],
      "execution_count": null,
      "outputs": [
        {
          "output_type": "execute_result",
          "data": {
            "text/html": [
              "<div>\n",
              "<style scoped>\n",
              "    .dataframe tbody tr th:only-of-type {\n",
              "        vertical-align: middle;\n",
              "    }\n",
              "\n",
              "    .dataframe tbody tr th {\n",
              "        vertical-align: top;\n",
              "    }\n",
              "\n",
              "    .dataframe thead th {\n",
              "        text-align: right;\n",
              "    }\n",
              "</style>\n",
              "<table border=\"1\" class=\"dataframe\">\n",
              "  <thead>\n",
              "    <tr style=\"text-align: right;\">\n",
              "      <th></th>\n",
              "      <th>Missing values</th>\n",
              "      <th>%</th>\n",
              "    </tr>\n",
              "  </thead>\n",
              "  <tbody>\n",
              "    <tr>\n",
              "      <th>Loan_ID</th>\n",
              "      <td>0</td>\n",
              "      <td>0.000000</td>\n",
              "    </tr>\n",
              "    <tr>\n",
              "      <th>Gender</th>\n",
              "      <td>11</td>\n",
              "      <td>3.089888</td>\n",
              "    </tr>\n",
              "    <tr>\n",
              "      <th>Married</th>\n",
              "      <td>0</td>\n",
              "      <td>0.000000</td>\n",
              "    </tr>\n",
              "    <tr>\n",
              "      <th>Dependents</th>\n",
              "      <td>10</td>\n",
              "      <td>2.801120</td>\n",
              "    </tr>\n",
              "    <tr>\n",
              "      <th>Education</th>\n",
              "      <td>0</td>\n",
              "      <td>0.000000</td>\n",
              "    </tr>\n",
              "    <tr>\n",
              "      <th>Self_Employed</th>\n",
              "      <td>23</td>\n",
              "      <td>6.686047</td>\n",
              "    </tr>\n",
              "    <tr>\n",
              "      <th>ApplicantIncome</th>\n",
              "      <td>0</td>\n",
              "      <td>0.000000</td>\n",
              "    </tr>\n",
              "    <tr>\n",
              "      <th>CoapplicantIncome</th>\n",
              "      <td>0</td>\n",
              "      <td>0.000000</td>\n",
              "    </tr>\n",
              "    <tr>\n",
              "      <th>LoanAmount</th>\n",
              "      <td>5</td>\n",
              "      <td>1.381215</td>\n",
              "    </tr>\n",
              "    <tr>\n",
              "      <th>Loan_Amount_Term</th>\n",
              "      <td>6</td>\n",
              "      <td>1.662050</td>\n",
              "    </tr>\n",
              "    <tr>\n",
              "      <th>Credit_History</th>\n",
              "      <td>29</td>\n",
              "      <td>8.579882</td>\n",
              "    </tr>\n",
              "    <tr>\n",
              "      <th>Property_Area</th>\n",
              "      <td>0</td>\n",
              "      <td>0.000000</td>\n",
              "    </tr>\n",
              "  </tbody>\n",
              "</table>\n",
              "</div>"
            ],
            "text/plain": [
              "                   Missing values         %\n",
              "Loan_ID                         0  0.000000\n",
              "Gender                         11  3.089888\n",
              "Married                         0  0.000000\n",
              "Dependents                     10  2.801120\n",
              "Education                       0  0.000000\n",
              "Self_Employed                  23  6.686047\n",
              "ApplicantIncome                 0  0.000000\n",
              "CoapplicantIncome               0  0.000000\n",
              "LoanAmount                      5  1.381215\n",
              "Loan_Amount_Term                6  1.662050\n",
              "Credit_History                 29  8.579882\n",
              "Property_Area                   0  0.000000"
            ]
          },
          "metadata": {
            "tags": []
          },
          "execution_count": 25
        }
      ]
    },
    {
      "cell_type": "markdown",
      "metadata": {
        "id": "6fRuSyUGhSZT",
        "colab_type": "text"
      },
      "source": [
        "#### 1- Dealing With Missing Values in Gender:\n",
        "it contains 11 values"
      ]
    },
    {
      "cell_type": "code",
      "metadata": {
        "id": "8-l9XBnchSZU",
        "colab_type": "code",
        "colab": {},
        "outputId": "6c917871-7fd1-45b0-e9a3-8a746e5a78dd"
      },
      "source": [
        "print(train_data['Gender'].value_counts())\n",
        "train_data['Gender'] =train_data['Gender'].replace(np.nan,'Male',inplace=True)\n",
        "test_data['Gender'] =train_data['Gender'].replace(np.nan,'Male',inplace=True)"
      ],
      "execution_count": null,
      "outputs": [
        {
          "output_type": "stream",
          "text": [
            "Male      489\n",
            "Female    112\n",
            "Name: Gender, dtype: int64\n"
          ],
          "name": "stdout"
        }
      ]
    },
    {
      "cell_type": "markdown",
      "metadata": {
        "id": "7AhcpZodhSZZ",
        "colab_type": "text"
      },
      "source": [
        "#### 2- Dealing With missing Values Married ,Dependents and Self_Employed"
      ]
    },
    {
      "cell_type": "code",
      "metadata": {
        "id": "73RfYiBChSZb",
        "colab_type": "code",
        "colab": {}
      },
      "source": [
        "train_data['Married'].value_counts()\n",
        "train_data['Married'].replace(np.nan,'Yes',inplace=True)\n",
        "test_data['Married'].replace(np.nan,'Yes',inplace=True)"
      ],
      "execution_count": null,
      "outputs": []
    },
    {
      "cell_type": "code",
      "metadata": {
        "id": "A6uOH-CahSZ6",
        "colab_type": "code",
        "colab": {}
      },
      "source": [
        "train_data['Dependents'].value_counts()\n",
        "train_data['Dependents'].replace(np.nan,0,inplace=True)\n",
        "test_data['Dependents'].replace(np.nan,0,inplace=True)\n",
        "train_data['Self_Employed'].replace(np.nan,'No',inplace=True)\n",
        "test_data['Self_Employed'].replace(np.nan,'No',inplace=True)\n",
        "#LoanAmount"
      ],
      "execution_count": null,
      "outputs": []
    },
    {
      "cell_type": "markdown",
      "metadata": {
        "id": "zMHamAPThSZ9",
        "colab_type": "text"
      },
      "source": [
        "3- Dealing With missing Values LoanAmount"
      ]
    },
    {
      "cell_type": "code",
      "metadata": {
        "id": "iJnFWKTmhSZ_",
        "colab_type": "code",
        "colab": {}
      },
      "source": [
        "train_data['LoanAmount'].replace(np.nan,train_data['LoanAmount'].median(),inplace=True)\n",
        "test_data['LoanAmount'].replace(np.nan,train_data['LoanAmount'].median(),inplace=True)"
      ],
      "execution_count": null,
      "outputs": []
    },
    {
      "cell_type": "markdown",
      "metadata": {
        "id": "tY6K_NyYhSaD",
        "colab_type": "text"
      },
      "source": [
        "4- Dealing With missing Values Loan_Amount_Term"
      ]
    },
    {
      "cell_type": "code",
      "metadata": {
        "id": "dbSgHlxnhSaF",
        "colab_type": "code",
        "colab": {}
      },
      "source": [
        "train_data['Loan_Amount_Term'].replace(np.nan,360.0,inplace=True)\n",
        "test_data['Loan_Amount_Term'].replace(np.nan,360.0,inplace=True)"
      ],
      "execution_count": null,
      "outputs": []
    },
    {
      "cell_type": "markdown",
      "metadata": {
        "id": "vuc23jxNhSaO",
        "colab_type": "text"
      },
      "source": [
        "5- Dealing With missing in Values Credit_History column"
      ]
    },
    {
      "cell_type": "code",
      "metadata": {
        "id": "6oS-H5EwhSaO",
        "colab_type": "code",
        "colab": {}
      },
      "source": [
        "train_data['Credit_History'].replace(np.nan,1,inplace=True)\n",
        "test_data['Credit_History'].replace(np.nan,1,inplace=True)"
      ],
      "execution_count": null,
      "outputs": []
    },
    {
      "cell_type": "code",
      "metadata": {
        "id": "460lCsV-hSaU",
        "colab_type": "code",
        "colab": {}
      },
      "source": [
        "train_data['LoanAmount']= pd.cut(train_data['LoanAmount'],3)\n",
        "train_data['CoapplicantIncome']=pd.cut(train_data['CoapplicantIncome'],5)\n",
        "train_data['ApplicantIncome']=pd.cut(train_data['ApplicantIncome'],5)\n"
      ],
      "execution_count": null,
      "outputs": []
    },
    {
      "cell_type": "code",
      "metadata": {
        "id": "NIZJOCA8hSaa",
        "colab_type": "code",
        "colab": {}
      },
      "source": [
        "train_data.drop('Loan_ID',axis=1,inplace=True)"
      ],
      "execution_count": null,
      "outputs": []
    },
    {
      "cell_type": "code",
      "metadata": {
        "id": "oQs4jCMfhSae",
        "colab_type": "code",
        "colab": {}
      },
      "source": [
        "train_data['Dependents'].replace('3+',3,inplace=True)\n",
        "test_data['Dependents'].replace('3+',3,inplace=True)"
      ],
      "execution_count": null,
      "outputs": []
    },
    {
      "cell_type": "code",
      "metadata": {
        "id": "C_j-mveqhSaj",
        "colab_type": "code",
        "colab": {}
      },
      "source": [
        "LE= LabelEncoder()\n",
        "train_data['Gender']= LE.fit_transform(train_data['Gender'])\n",
        "train_data['Married']= LE.fit_transform(train_data['Married'])\n",
        "train_data['Property_Area']= LE.fit_transform(train_data['Property_Area'])\n",
        "train_data['Self_Employed']= LE.fit_transform(train_data['Self_Employed'])\n",
        "train_data['LoanAmount']= LE.fit_transform(train_data['LoanAmount'])\n",
        "train_data['Education']= LE.fit_transform(train_data['Education'])\n",
        "train_data['ApplicantIncome']= LE.fit_transform(train_data['ApplicantIncome'])\n",
        "train_data['CoapplicantIncome']= LE.fit_transform(train_data['CoapplicantIncome'])\n"
      ],
      "execution_count": null,
      "outputs": []
    },
    {
      "cell_type": "code",
      "metadata": {
        "id": "_8fv3DvZhSan",
        "colab_type": "code",
        "colab": {}
      },
      "source": [
        "train_data['Dependents']= train_data['Dependents'].astype(int)"
      ],
      "execution_count": null,
      "outputs": []
    },
    {
      "cell_type": "code",
      "metadata": {
        "id": "B3V3SSjbhSar",
        "colab_type": "code",
        "colab": {}
      },
      "source": [
        "from sklearn.preprocessing import MinMaxScaler\n",
        "SC= MinMaxScaler()\n",
        "#train_data['CoapplicantIncome'] =SC.fit_transform(train_data['CoapplicantIncome'])\n",
        "#train_data['Loan_Amount_Term'] =SC.fit_transform(train_data['Loan_Amount_Term'])"
      ],
      "execution_count": null,
      "outputs": []
    },
    {
      "cell_type": "code",
      "metadata": {
        "id": "EsSwxKXPhSau",
        "colab_type": "code",
        "colab": {},
        "outputId": "81e87646-e808-4711-ca5c-15b3508c8fcb"
      },
      "source": [
        "train_data.head()"
      ],
      "execution_count": null,
      "outputs": [
        {
          "output_type": "execute_result",
          "data": {
            "text/html": [
              "<div>\n",
              "<style scoped>\n",
              "    .dataframe tbody tr th:only-of-type {\n",
              "        vertical-align: middle;\n",
              "    }\n",
              "\n",
              "    .dataframe tbody tr th {\n",
              "        vertical-align: top;\n",
              "    }\n",
              "\n",
              "    .dataframe thead th {\n",
              "        text-align: right;\n",
              "    }\n",
              "</style>\n",
              "<table border=\"1\" class=\"dataframe\">\n",
              "  <thead>\n",
              "    <tr style=\"text-align: right;\">\n",
              "      <th></th>\n",
              "      <th>Gender</th>\n",
              "      <th>Married</th>\n",
              "      <th>Dependents</th>\n",
              "      <th>Education</th>\n",
              "      <th>Self_Employed</th>\n",
              "      <th>ApplicantIncome</th>\n",
              "      <th>CoapplicantIncome</th>\n",
              "      <th>LoanAmount</th>\n",
              "      <th>Loan_Amount_Term</th>\n",
              "      <th>Credit_History</th>\n",
              "      <th>Property_Area</th>\n",
              "      <th>Loan_Status</th>\n",
              "    </tr>\n",
              "  </thead>\n",
              "  <tbody>\n",
              "    <tr>\n",
              "      <th>0</th>\n",
              "      <td>0</td>\n",
              "      <td>0</td>\n",
              "      <td>0</td>\n",
              "      <td>0</td>\n",
              "      <td>0</td>\n",
              "      <td>0</td>\n",
              "      <td>0</td>\n",
              "      <td>0</td>\n",
              "      <td>360.0</td>\n",
              "      <td>1.0</td>\n",
              "      <td>2</td>\n",
              "      <td>1</td>\n",
              "    </tr>\n",
              "    <tr>\n",
              "      <th>1</th>\n",
              "      <td>0</td>\n",
              "      <td>1</td>\n",
              "      <td>1</td>\n",
              "      <td>0</td>\n",
              "      <td>0</td>\n",
              "      <td>0</td>\n",
              "      <td>0</td>\n",
              "      <td>0</td>\n",
              "      <td>360.0</td>\n",
              "      <td>1.0</td>\n",
              "      <td>0</td>\n",
              "      <td>0</td>\n",
              "    </tr>\n",
              "    <tr>\n",
              "      <th>2</th>\n",
              "      <td>0</td>\n",
              "      <td>1</td>\n",
              "      <td>0</td>\n",
              "      <td>0</td>\n",
              "      <td>1</td>\n",
              "      <td>0</td>\n",
              "      <td>0</td>\n",
              "      <td>0</td>\n",
              "      <td>360.0</td>\n",
              "      <td>1.0</td>\n",
              "      <td>2</td>\n",
              "      <td>1</td>\n",
              "    </tr>\n",
              "    <tr>\n",
              "      <th>3</th>\n",
              "      <td>0</td>\n",
              "      <td>1</td>\n",
              "      <td>0</td>\n",
              "      <td>1</td>\n",
              "      <td>0</td>\n",
              "      <td>0</td>\n",
              "      <td>0</td>\n",
              "      <td>0</td>\n",
              "      <td>360.0</td>\n",
              "      <td>1.0</td>\n",
              "      <td>2</td>\n",
              "      <td>1</td>\n",
              "    </tr>\n",
              "    <tr>\n",
              "      <th>4</th>\n",
              "      <td>0</td>\n",
              "      <td>0</td>\n",
              "      <td>0</td>\n",
              "      <td>0</td>\n",
              "      <td>0</td>\n",
              "      <td>0</td>\n",
              "      <td>0</td>\n",
              "      <td>0</td>\n",
              "      <td>360.0</td>\n",
              "      <td>1.0</td>\n",
              "      <td>2</td>\n",
              "      <td>1</td>\n",
              "    </tr>\n",
              "  </tbody>\n",
              "</table>\n",
              "</div>"
            ],
            "text/plain": [
              "   Gender  Married  Dependents  Education  Self_Employed  ApplicantIncome  \\\n",
              "0       0        0           0          0              0                0   \n",
              "1       0        1           1          0              0                0   \n",
              "2       0        1           0          0              1                0   \n",
              "3       0        1           0          1              0                0   \n",
              "4       0        0           0          0              0                0   \n",
              "\n",
              "   CoapplicantIncome  LoanAmount  Loan_Amount_Term  Credit_History  \\\n",
              "0                  0           0             360.0             1.0   \n",
              "1                  0           0             360.0             1.0   \n",
              "2                  0           0             360.0             1.0   \n",
              "3                  0           0             360.0             1.0   \n",
              "4                  0           0             360.0             1.0   \n",
              "\n",
              "   Property_Area  Loan_Status  \n",
              "0              2            1  \n",
              "1              0            0  \n",
              "2              2            1  \n",
              "3              2            1  \n",
              "4              2            1  "
            ]
          },
          "metadata": {
            "tags": []
          },
          "execution_count": 38
        }
      ]
    },
    {
      "cell_type": "code",
      "metadata": {
        "id": "TiBSxs3jhSaz",
        "colab_type": "code",
        "colab": {}
      },
      "source": [
        "y= train_data['Loan_Status']\n",
        "X= train_data.drop('Loan_Status',axis=1)\n"
      ],
      "execution_count": null,
      "outputs": []
    },
    {
      "cell_type": "code",
      "metadata": {
        "id": "Vb2RDpNshSa3",
        "colab_type": "code",
        "colab": {}
      },
      "source": [
        "X_train,X_test,y_train,y_test= train_test_split(X,y,test_size=.2,random_state=33)"
      ],
      "execution_count": null,
      "outputs": []
    },
    {
      "cell_type": "code",
      "metadata": {
        "id": "4w17Cm2LhSa7",
        "colab_type": "code",
        "colab": {},
        "outputId": "9229035e-d075-45e0-aadb-9a702d6b703c"
      },
      "source": [
        "#Random forest\n",
        "RFmodel= RandomForestClassifier(n_estimators=100,max_depth=3,random_state=33)\n",
        "RFmodel.fit(X_train,y_train)\n",
        "y_pred= RFmodel.predict(X_test)\n",
        "print(\"confusion matrix:\\n\",confusion_matrix(y_test,y_pred))\n",
        "print(\"Accurecy Score for Random Forest:%f\"%accuracy_score(y_pred,y_test))\n",
        "print('*'*50)\n",
        "###DecisionTree\n",
        "DTmodel= DecisionTreeClassifier(max_depth=5,random_state=33)\n",
        "DTmodel.fit(X_train,y_train)\n",
        "y_pred= DTmodel.predict(X_test)\n",
        "print(\"confusion matrix:\\n\",confusion_matrix(y_test,y_pred))\n",
        "print(\"Accurecy Score for Decision Tree:%f\"%accuracy_score(y_pred,y_test))\n",
        "print('*'*50)\n",
        "####SVC\n",
        "SVCmodel= SVC(kernel= 'rbf')\n",
        "SVCmodel.fit(X_train,y_train)\n",
        "y_pred= SVCmodel.predict(X_test)\n",
        "print(\"confusion matrix:\\n\",confusion_matrix(y_test,y_pred))\n",
        "print(\"Accurecy Score for SVC:%f\"%accuracy_score(y_pred,y_test))\n",
        "print('*'*50)\n",
        "####Logistic Regression\n",
        "LRmodel= LogisticRegression(fit_intercept=True)\n",
        "LRmodel.fit(X_train,y_train)\n",
        "y_pred= LRmodel.predict(X_test)\n",
        "print(\"confusion matrix:\\n\",confusion_matrix(y_test,y_pred))\n",
        "print(\"Accurecy Score for Logestic Regretion:%f\"%accuracy_score(y_pred,y_test))\n",
        "print('*'*50)\n",
        "###bernoli NB\n",
        "BNmodel= BernoulliNB(alpha=.01)\n",
        "BNmodel.fit(X_train,y_train)\n",
        "y_pred= BNmodel.predict(X_test)\n",
        "print(\"confusion matrix:\\n\",confusion_matrix(y_test,y_pred))\n",
        "print(\"Accurecy Score for Bernoulli:%f\"%accuracy_score(y_pred,y_test))\n",
        "print('*'*50)\n",
        "####KNeighbors\n",
        "NeighborsClassmodel= KNeighborsClassifier(n_neighbors=4)\n",
        "NeighborsClassmodel.fit(X_train,y_train)\n",
        "y_pred= NeighborsClassmodel.predict(X_test)\n",
        "print(\"confusion matrix:\\n\",confusion_matrix(y_test,y_pred))\n",
        "print(\"Accurecy Score for KNeighbors:%f\"%accuracy_score(y_pred,y_test))\n",
        "print('*'*50)\n",
        "####LinearDiscriminant\n",
        "LinearDiscriminantmodel= LinearDiscriminantAnalysis(n_components=10)\n",
        "LinearDiscriminantmodel.fit(X_train,y_train)\n",
        "y_pred= LinearDiscriminantmodel.predict(X_test)\n",
        "print(\"confusion matrix:\\n\",confusion_matrix(y_test,y_pred))\n",
        "print(\"Accurecy Score for LinearDiscriminant:%f\"%accuracy_score(y_pred,y_test))\n",
        "print('*'*50)"
      ],
      "execution_count": null,
      "outputs": [
        {
          "output_type": "stream",
          "text": [
            "confusion matrix:\n",
            " [[17 19]\n",
            " [ 3 84]]\n",
            "Accurecy Score for Random Forest:0.821138\n",
            "**************************************************\n",
            "confusion matrix:\n",
            " [[17 19]\n",
            " [ 4 83]]\n",
            "Accurecy Score for Decision Tree:0.813008\n",
            "**************************************************\n",
            "confusion matrix:\n",
            " [[ 0 36]\n",
            " [ 0 87]]\n",
            "Accurecy Score for SVC:0.707317\n",
            "**************************************************\n",
            "confusion matrix:\n",
            " [[18 18]\n",
            " [ 3 84]]\n",
            "Accurecy Score for Logestic Regretion:0.829268\n",
            "**************************************************\n",
            "confusion matrix:\n",
            " [[18 18]\n",
            " [ 3 84]]\n",
            "Accurecy Score for Bernoulli:0.829268\n",
            "**************************************************\n",
            "confusion matrix:\n",
            " [[18 18]\n",
            " [23 64]]\n",
            "Accurecy Score for KNeighbors:0.666667\n",
            "**************************************************\n",
            "confusion matrix:\n",
            " [[18 18]\n",
            " [ 3 84]]\n",
            "Accurecy Score for LinearDiscriminant:0.829268\n",
            "**************************************************\n"
          ],
          "name": "stdout"
        }
      ]
    },
    {
      "cell_type": "code",
      "metadata": {
        "id": "wNb3YRjmhSbC",
        "colab_type": "code",
        "colab": {},
        "outputId": "ab1624c5-a920-4b9d-80ee-8a69f4a1288a"
      },
      "source": [
        "for i in range(2,200,5):\n",
        "    print(\"n:\",i)\n",
        "    RFmodel= RandomForestClassifier(n_estimators=i,max_depth=5,random_state=33)\n",
        "    RFmodel.fit(X_train,y_train)\n",
        "    y_pred= RFmodel.predict(X_test)\n",
        "    print(\"confusion matrix:\\n\",confusion_matrix(y_test,y_pred))\n",
        "    print(\"Accurecy Score for Random Forest:%f\"%accuracy_score(y_pred,y_test))\n",
        "    print('*'*50)\n",
        "#####the best estimator n =2 the Accuecy is     "
      ],
      "execution_count": null,
      "outputs": [
        {
          "output_type": "stream",
          "text": [
            "n: 2\n",
            "confusion matrix:\n",
            " [[18 18]\n",
            " [ 4 83]]\n",
            "Accurecy Score for Random Forest:0.821138\n",
            "**************************************************\n",
            "n: 7\n",
            "confusion matrix:\n",
            " [[17 19]\n",
            " [ 3 84]]\n",
            "Accurecy Score for Random Forest:0.821138\n",
            "**************************************************\n",
            "n: 12\n",
            "confusion matrix:\n",
            " [[17 19]\n",
            " [ 3 84]]\n",
            "Accurecy Score for Random Forest:0.821138\n",
            "**************************************************\n",
            "n: 17\n",
            "confusion matrix:\n",
            " [[17 19]\n",
            " [ 3 84]]\n",
            "Accurecy Score for Random Forest:0.821138\n",
            "**************************************************\n",
            "n: 22\n",
            "confusion matrix:\n",
            " [[17 19]\n",
            " [ 3 84]]\n",
            "Accurecy Score for Random Forest:0.821138\n",
            "**************************************************\n",
            "n: 27\n",
            "confusion matrix:\n",
            " [[17 19]\n",
            " [ 3 84]]\n",
            "Accurecy Score for Random Forest:0.821138\n",
            "**************************************************\n",
            "n: 32\n",
            "confusion matrix:\n",
            " [[17 19]\n",
            " [ 3 84]]\n",
            "Accurecy Score for Random Forest:0.821138\n",
            "**************************************************\n",
            "n: 37\n",
            "confusion matrix:\n",
            " [[17 19]\n",
            " [ 3 84]]\n",
            "Accurecy Score for Random Forest:0.821138\n",
            "**************************************************\n",
            "n: 42\n",
            "confusion matrix:\n",
            " [[17 19]\n",
            " [ 3 84]]\n",
            "Accurecy Score for Random Forest:0.821138\n",
            "**************************************************\n",
            "n: 47\n",
            "confusion matrix:\n",
            " [[17 19]\n",
            " [ 3 84]]\n",
            "Accurecy Score for Random Forest:0.821138\n",
            "**************************************************\n",
            "n: 52\n",
            "confusion matrix:\n",
            " [[17 19]\n",
            " [ 3 84]]\n",
            "Accurecy Score for Random Forest:0.821138\n",
            "**************************************************\n",
            "n: 57\n",
            "confusion matrix:\n",
            " [[17 19]\n",
            " [ 3 84]]\n",
            "Accurecy Score for Random Forest:0.821138\n",
            "**************************************************\n",
            "n: 62\n",
            "confusion matrix:\n",
            " [[17 19]\n",
            " [ 3 84]]\n",
            "Accurecy Score for Random Forest:0.821138\n",
            "**************************************************\n",
            "n: 67\n",
            "confusion matrix:\n",
            " [[17 19]\n",
            " [ 3 84]]\n",
            "Accurecy Score for Random Forest:0.821138\n",
            "**************************************************\n",
            "n: 72\n",
            "confusion matrix:\n",
            " [[17 19]\n",
            " [ 3 84]]\n",
            "Accurecy Score for Random Forest:0.821138\n",
            "**************************************************\n",
            "n: 77\n",
            "confusion matrix:\n",
            " [[17 19]\n",
            " [ 3 84]]\n",
            "Accurecy Score for Random Forest:0.821138\n",
            "**************************************************\n",
            "n: 82\n",
            "confusion matrix:\n",
            " [[17 19]\n",
            " [ 3 84]]\n",
            "Accurecy Score for Random Forest:0.821138\n",
            "**************************************************\n",
            "n: 87\n",
            "confusion matrix:\n",
            " [[17 19]\n",
            " [ 3 84]]\n",
            "Accurecy Score for Random Forest:0.821138\n",
            "**************************************************\n",
            "n: 92\n",
            "confusion matrix:\n",
            " [[17 19]\n",
            " [ 3 84]]\n",
            "Accurecy Score for Random Forest:0.821138\n",
            "**************************************************\n",
            "n: 97\n",
            "confusion matrix:\n",
            " [[17 19]\n",
            " [ 3 84]]\n",
            "Accurecy Score for Random Forest:0.821138\n",
            "**************************************************\n",
            "n: 102\n",
            "confusion matrix:\n",
            " [[17 19]\n",
            " [ 3 84]]\n",
            "Accurecy Score for Random Forest:0.821138\n",
            "**************************************************\n",
            "n: 107\n",
            "confusion matrix:\n",
            " [[17 19]\n",
            " [ 3 84]]\n",
            "Accurecy Score for Random Forest:0.821138\n",
            "**************************************************\n",
            "n: 112\n",
            "confusion matrix:\n",
            " [[17 19]\n",
            " [ 3 84]]\n",
            "Accurecy Score for Random Forest:0.821138\n",
            "**************************************************\n",
            "n: 117\n",
            "confusion matrix:\n",
            " [[17 19]\n",
            " [ 3 84]]\n",
            "Accurecy Score for Random Forest:0.821138\n",
            "**************************************************\n",
            "n: 122\n",
            "confusion matrix:\n",
            " [[17 19]\n",
            " [ 3 84]]\n",
            "Accurecy Score for Random Forest:0.821138\n",
            "**************************************************\n",
            "n: 127\n",
            "confusion matrix:\n",
            " [[17 19]\n",
            " [ 3 84]]\n",
            "Accurecy Score for Random Forest:0.821138\n",
            "**************************************************\n",
            "n: 132\n",
            "confusion matrix:\n",
            " [[17 19]\n",
            " [ 3 84]]\n",
            "Accurecy Score for Random Forest:0.821138\n",
            "**************************************************\n",
            "n: 137\n",
            "confusion matrix:\n",
            " [[17 19]\n",
            " [ 3 84]]\n",
            "Accurecy Score for Random Forest:0.821138\n",
            "**************************************************\n",
            "n: 142\n",
            "confusion matrix:\n",
            " [[17 19]\n",
            " [ 3 84]]\n",
            "Accurecy Score for Random Forest:0.821138\n",
            "**************************************************\n",
            "n: 147\n",
            "confusion matrix:\n",
            " [[17 19]\n",
            " [ 3 84]]\n",
            "Accurecy Score for Random Forest:0.821138\n",
            "**************************************************\n",
            "n: 152\n",
            "confusion matrix:\n",
            " [[17 19]\n",
            " [ 3 84]]\n",
            "Accurecy Score for Random Forest:0.821138\n",
            "**************************************************\n",
            "n: 157\n",
            "confusion matrix:\n",
            " [[17 19]\n",
            " [ 3 84]]\n",
            "Accurecy Score for Random Forest:0.821138\n",
            "**************************************************\n",
            "n: 162\n",
            "confusion matrix:\n",
            " [[17 19]\n",
            " [ 3 84]]\n",
            "Accurecy Score for Random Forest:0.821138\n",
            "**************************************************\n",
            "n: 167\n",
            "confusion matrix:\n",
            " [[17 19]\n",
            " [ 3 84]]\n",
            "Accurecy Score for Random Forest:0.821138\n",
            "**************************************************\n",
            "n: 172\n",
            "confusion matrix:\n",
            " [[17 19]\n",
            " [ 3 84]]\n",
            "Accurecy Score for Random Forest:0.821138\n",
            "**************************************************\n",
            "n: 177\n",
            "confusion matrix:\n",
            " [[17 19]\n",
            " [ 3 84]]\n",
            "Accurecy Score for Random Forest:0.821138\n",
            "**************************************************\n",
            "n: 182\n",
            "confusion matrix:\n",
            " [[17 19]\n",
            " [ 3 84]]\n",
            "Accurecy Score for Random Forest:0.821138\n",
            "**************************************************\n",
            "n: 187\n",
            "confusion matrix:\n",
            " [[17 19]\n",
            " [ 3 84]]\n",
            "Accurecy Score for Random Forest:0.821138\n",
            "**************************************************\n",
            "n: 192\n",
            "confusion matrix:\n",
            " [[17 19]\n",
            " [ 3 84]]\n",
            "Accurecy Score for Random Forest:0.821138\n",
            "**************************************************\n",
            "n: 197\n",
            "confusion matrix:\n",
            " [[17 19]\n",
            " [ 3 84]]\n",
            "Accurecy Score for Random Forest:0.821138\n",
            "**************************************************\n"
          ],
          "name": "stdout"
        }
      ]
    },
    {
      "cell_type": "code",
      "metadata": {
        "id": "Mqjv4amOhSbF",
        "colab_type": "code",
        "colab": {}
      },
      "source": [
        ""
      ],
      "execution_count": null,
      "outputs": []
    }
  ]
}